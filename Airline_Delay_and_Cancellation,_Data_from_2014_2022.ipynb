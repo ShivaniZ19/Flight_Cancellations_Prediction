{
  "cells": [
    {
      "cell_type": "markdown",
      "metadata": {
        "id": "vxWxIOSGbj3-"
      },
      "source": [
        "<CENTER>\n",
        "\n",
        "#  Prediction of Airline Delay and Cancellation Data from 2014 - 2022 using machine leaning models\n",
        "\n",
        "</CENTER>"
      ]
    },
    {
      "cell_type": "markdown",
      "metadata": {
        "id": "hoqUX2MZco9i"
      },
      "source": [
        "## 1. Imports and Initialization"
      ]
    },
    {
      "cell_type": "code",
      "execution_count": 29,
      "metadata": {
        "colab": {
          "base_uri": "https://localhost:8080/"
        },
        "id": "U_FBnnUKY3tr",
        "outputId": "dcea76bb-ae9c-45ca-915e-e77f02529dca"
      },
      "outputs": [
        {
          "output_type": "stream",
          "name": "stdout",
          "text": [
            "['2014.csv', '2015.csv', '2016.csv', '2017.csv', '2018.csv', '2019.csv', '2021.csv', '2022.csv']\n"
          ]
        }
      ],
      "source": [
        "import os\n",
        "\n",
        "# Define the path to the directory containing your datasets\n",
        "dataset_path = \"/content/drive/MyDrive/Airline Delay and Cancellation Data from 2014 to  2022\"\n",
        "\n",
        "# Use os.listdir() to get a list of files and directories\n",
        "datasets = os.listdir(dataset_path)\n",
        "\n",
        "data = sorted(datasets)\n",
        "\n",
        "# Print the list of datasets\n",
        "print(data)"
      ]
    },
    {
      "cell_type": "code",
      "execution_count": 30,
      "metadata": {
        "colab": {
          "base_uri": "https://localhost:8080/"
        },
        "id": "PHcXFKYuV-MB",
        "outputId": "6c93fb80-b5d4-46ca-8fe1-8dbb507a09c1"
      },
      "outputs": [
        {
          "output_type": "stream",
          "name": "stdout",
          "text": [
            "Requirement already satisfied: pyspark in /usr/local/lib/python3.10/dist-packages (3.5.0)\n",
            "Requirement already satisfied: py4j==0.10.9.7 in /usr/local/lib/python3.10/dist-packages (from pyspark) (0.10.9.7)\n"
          ]
        }
      ],
      "source": [
        "pip install pyspark"
      ]
    },
    {
      "cell_type": "code",
      "execution_count": 31,
      "metadata": {
        "id": "yiMuirFubdcd"
      },
      "outputs": [],
      "source": [
        "from pyspark import SparkContext, SparkConf\n",
        "\n",
        "\n",
        "from pyspark.sql import SparkSession\n",
        "import pyspark.sql.functions as F\n",
        "import pyspark.sql.types as T\n",
        "\n",
        "from pyspark.ml.feature import OneHotEncoder, StringIndexer, VectorAssembler\n",
        "\n",
        "from pyspark.ml import Pipeline\n",
        "from pyspark.ml.classification import LogisticRegression, DecisionTreeClassifier, RandomForestClassifier, GBTClassifier\n",
        "\n",
        "from pyspark.ml.evaluation import BinaryClassificationEvaluator, MulticlassClassificationEvaluator\n",
        "\n",
        "import warnings\n",
        "warnings.filterwarnings('ignore')"
      ]
    },
    {
      "cell_type": "code",
      "execution_count": 32,
      "metadata": {
        "id": "j-bgbUkIb0Td"
      },
      "outputs": [],
      "source": [
        "# initialize sparkSession\n",
        "#setting the log level to control the verbosity of the logging output.\n",
        "spark = SparkSession.builder.config(\"spark.executor.memory\",\"2g\").getOrCreate()\n",
        "spark.sparkContext.setLogLevel(\"ERROR\")"
      ]
    },
    {
      "cell_type": "code",
      "execution_count": 33,
      "metadata": {
        "id": "EL1DUSV6b653"
      },
      "outputs": [],
      "source": [
        "#removes all cached data for all tables in the catalog.\n",
        "spark.catalog.clearCache()"
      ]
    },
    {
      "cell_type": "markdown",
      "metadata": {
        "id": "OjsWRPxCcucx"
      },
      "source": [
        "## 2. Loading and Cleaning the Data"
      ]
    },
    {
      "cell_type": "code",
      "execution_count": 34,
      "metadata": {
        "colab": {
          "base_uri": "https://localhost:8080/",
          "height": 71
        },
        "id": "_HpCR7mLhRYH",
        "outputId": "66173451-7d33-4dbb-8f87-dde16eb7b654"
      },
      "outputs": [
        {
          "output_type": "execute_result",
          "data": {
            "text/plain": [
              "\"\\nSo, the file_paths list will contain paths like:\\n\\n'/content/drive/MyDrive/Airline Delay and Cancellation Data from 2014 to 2022/2014'\\n'/content/drive/MyDrive/Airline Delay and Cancellation Data from 2014 to 2022/2015'\\n...\\n'/content/drive/MyDrive/Airline Delay and Cancellation Data from 2014 to 2022/2021'\\n\""
            ],
            "application/vnd.google.colaboratory.intrinsic+json": {
              "type": "string"
            }
          },
          "metadata": {},
          "execution_count": 34
        }
      ],
      "source": [
        "file_names_range = list(range(2014, 2019)) + list(range(2021, 2022))\n",
        "file_paths = [f'/content/drive/MyDrive/Airline Delay and Cancellation Data from 2014 to  2022' for year in file_names_range]\n",
        "\n",
        "\n",
        "\n",
        "\n",
        "\"\"\"\n",
        "So, the file_paths list will contain paths like:\n",
        "\n",
        "'/content/drive/MyDrive/Airline Delay and Cancellation Data from 2014 to 2022/2014'\n",
        "'/content/drive/MyDrive/Airline Delay and Cancellation Data from 2014 to 2022/2015'\n",
        "...\n",
        "'/content/drive/MyDrive/Airline Delay and Cancellation Data from 2014 to 2022/2021'\n",
        "\"\"\""
      ]
    },
    {
      "cell_type": "code",
      "execution_count": 35,
      "metadata": {
        "id": "yrzQXQLOhybW"
      },
      "outputs": [],
      "source": [
        "schema = T.StructType([\n",
        "    T.StructField(\"FL_DATE\", T.TimestampType(), nullable=True),\n",
        "    T.StructField(\"OP_CARRIER\", T.StringType(), nullable=True),\n",
        "    T.StructField(\"OP_CARRIER_FL_NUM\", T.IntegerType(), nullable=True),\n",
        "    T.StructField(\"ORIGIN\", T.StringType(), nullable=True),\n",
        "    T.StructField(\"DEST\", T.StringType(), nullable=True),\n",
        "    T.StructField(\"CRS_DEP_TIME\", T.DoubleType(), nullable=True),\n",
        "    T.StructField(\"DEP_TIME\", T.DoubleType(), nullable=True),\n",
        "    T.StructField(\"DEP_DELAY\", T.DoubleType(), nullable=True),\n",
        "    T.StructField(\"TAXI_OUT\", T.DoubleType(), nullable=True),\n",
        "    T.StructField(\"WHEELS_OFF\", T.DoubleType(), nullable=True),\n",
        "    T.StructField(\"WHEELS_ON\", T.DoubleType(), nullable=True),\n",
        "    T.StructField(\"TAXI_IN\", T.DoubleType(), nullable=True),\n",
        "    T.StructField(\"CRS_ARR_TIME\", T.DoubleType(), nullable=True),\n",
        "    T.StructField(\"ARR_TIME\",T.DoubleType(), nullable=True),\n",
        "    T.StructField(\"ARR_DELAY\", T.DoubleType(), nullable=True),\n",
        "    T.StructField(\"CANCELLED\", T.DoubleType(), nullable=True),\n",
        "    T.StructField(\"CANCELLATION_CODE\", T.StringType(), nullable=True),\n",
        "    T.StructField(\"DIVERTED\", T.DoubleType(), nullable=True),\n",
        "    T.StructField(\"CRS_ELAPSED_TIME\", T.DoubleType(), nullable=True),\n",
        "    T.StructField(\"ACTUAL_ELAPSED_TIME\", T.DoubleType(), nullable=True),\n",
        "    T.StructField(\"AIR_TIME\", T.DoubleType(), nullable=True),\n",
        "    T.StructField(\"DISTANCE\", T.DoubleType(), nullable=True),\n",
        "    T.StructField(\"CARRIER_DELAY\", T.DoubleType(), nullable=True),\n",
        "    T.StructField(\"WEATHER_DELAY\", T.DoubleType(), nullable=True),\n",
        "    T.StructField(\"NAS_DELAY\", T.DoubleType(), nullable=True),\n",
        "    T.StructField(\"SECURITY_DELAY\", T.DoubleType(), nullable=True),\n",
        "    T.StructField(\"LATE_AIRCRAFT_DELAY\", T.DoubleType(), nullable=True),\n",
        "    T.StructField(\"Unnamed: 27\", T.StringType(), nullable=True)\n",
        "])"
      ]
    },
    {
      "cell_type": "code",
      "execution_count": 36,
      "metadata": {
        "id": "a-twchcDiHW6"
      },
      "outputs": [],
      "source": [
        "df = spark.read.schema(schema).format(\"csv\").option(\"header\", \"true\").load(file_paths)"
      ]
    },
    {
      "cell_type": "code",
      "execution_count": 37,
      "metadata": {
        "id": "_iPp-Gk6if4_"
      },
      "outputs": [],
      "source": [
        "# remove null values from the cols used for classification:\n",
        "df = df.dropna(subset= [\n",
        "    'FL_DATE',\n",
        " 'OP_CARRIER',\n",
        " 'OP_CARRIER_FL_NUM',\n",
        " 'ORIGIN',\n",
        " 'DEST',\n",
        " 'CRS_DEP_TIME',\n",
        " 'CRS_ARR_TIME',\n",
        " 'CANCELLED',\n",
        " 'DIVERTED',\n",
        " 'CRS_ELAPSED_TIME',\n",
        " 'DISTANCE'])\n",
        "\n",
        "# save df for analysis\n",
        "analysis_df = df"
      ]
    },
    {
      "cell_type": "code",
      "execution_count": 38,
      "metadata": {
        "id": "lwlWZyFmimtI"
      },
      "outputs": [],
      "source": [
        "# drop the cols who indirectly indicate if a flight is canelled or not (apart from the column CANCELLED)\n",
        "# most of those cols contain null values, if the flight is cancelled\n",
        "\n",
        "classify_df = df.drop(\"Unnamed: 27\",\n",
        "                        \"CARRIER_DELAY\",\n",
        "                        \"WEATHER_DELAY\",\n",
        "                        \"NAS_DELAY\",\n",
        "                        \"SECURITY_DELAY\",\n",
        "                        \"LATE_AIRCRAFT_DELAY\",\n",
        "                        \"CANCELLATION_CODE\",\n",
        "                        \"DEP_TIME\",\n",
        "                        \"DEP_DELAY\",\n",
        "                        \"TAXI_OUT\",\n",
        "                        \"WHEELS_OFF\",\n",
        "                        \"WHEELS_ON\",\n",
        "                        \"TAXI_IN\",\n",
        "                        \"ARR_TIME\",\n",
        "                        \"ARR_DELAY\",\n",
        "                        \"ACTUAL_ELAPSED_TIME\",\n",
        "                        \"AIR_TIME\")"
      ]
    },
    {
      "cell_type": "code",
      "execution_count": 39,
      "metadata": {
        "colab": {
          "base_uri": "https://localhost:8080/",
          "height": 71
        },
        "id": "q0XVy3tciq6s",
        "outputId": "c61f8dd7-9860-45b7-cd69-34ea96a6d9aa"
      },
      "outputs": [
        {
          "output_type": "execute_result",
          "data": {
            "text/plain": [
              "'\\nBefore Conversion:\\n+-------------------+\\n|         event_time|\\n+-------------------+\\n|2023-01-01 12:30:45|\\n+-------------------+\\n\\nAfter Conversion:\\n+-------------------+------------------+\\n|         event_time|   event_time_unix|\\n+-------------------+------------------+\\n|2023-01-01 12:30:45|1641079845.0      |\\n+-------------------+------------------+\\n'"
            ],
            "application/vnd.google.colaboratory.intrinsic+json": {
              "type": "string"
            }
          },
          "metadata": {},
          "execution_count": 39
        }
      ],
      "source": [
        "# numerical timestamp column\n",
        "classify_df = classify_df.withColumn(\"FL_DATE\", F.unix_timestamp(\"FL_DATE\"))\n",
        "\n",
        "\n",
        "\"\"\"\n",
        "Before Conversion:\n",
        "+-------------------+\n",
        "|         event_time|\n",
        "+-------------------+\n",
        "|2023-01-01 12:30:45|\n",
        "+-------------------+\n",
        "\n",
        "After Conversion:\n",
        "+-------------------+------------------+\n",
        "|         event_time|   event_time_unix|\n",
        "+-------------------+------------------+\n",
        "|2023-01-01 12:30:45|1641079845.0      |\n",
        "+-------------------+------------------+\n",
        "\"\"\""
      ]
    },
    {
      "cell_type": "code",
      "execution_count": 40,
      "metadata": {
        "colab": {
          "base_uri": "https://localhost:8080/"
        },
        "id": "Snq57aHUiuhw",
        "outputId": "46033b6e-3b13-437a-affc-dfcb3985eea7"
      },
      "outputs": [
        {
          "output_type": "execute_result",
          "data": {
            "text/plain": [
              "['FL_DATE',\n",
              " 'OP_CARRIER',\n",
              " 'OP_CARRIER_FL_NUM',\n",
              " 'ORIGIN',\n",
              " 'DEST',\n",
              " 'CRS_DEP_TIME',\n",
              " 'CRS_ARR_TIME',\n",
              " 'CANCELLED',\n",
              " 'DIVERTED',\n",
              " 'CRS_ELAPSED_TIME',\n",
              " 'DISTANCE']"
            ]
          },
          "metadata": {},
          "execution_count": 40
        }
      ],
      "source": [
        "classify_df.columns"
      ]
    },
    {
      "cell_type": "code",
      "execution_count": 41,
      "metadata": {
        "id": "lkUr8g6liwMv"
      },
      "outputs": [],
      "source": [
        "# Take a subset: either balanced (with subsampling) or unbalanced\n",
        "# we take a subset, because of memory limitations\n",
        "\n",
        "# select subsample of positive samples\n",
        "pos_df = classify_df.filter(F.col('CANCELLED').isin(1)).sample(fraction=0.1)\n",
        "# select an equal amount of negative samples (number of neg samples == number of pos samples)\n",
        "neg_df = classify_df.filter(F.col('CANCELLED').isin(0)).orderBy(F.rand()).limit(pos_df.count())\n",
        "\n",
        "\n",
        "# balanced df - a subset - around 141k\n",
        "classify_df = pos_df.union(neg_df).sample(fraction=1.0).cache()\n",
        "\n",
        "# unbalanced df - but a subset - around 215k\n",
        "#classify_df = classify_df.sample(fraction=0.005).cache()"
      ]
    },
    {
      "cell_type": "markdown",
      "metadata": {
        "id": "cNk3K3cjntrg"
      },
      "source": [
        "## 3. Analysis (on the analysis_df)"
      ]
    },
    {
      "cell_type": "code",
      "execution_count": 42,
      "metadata": {
        "colab": {
          "base_uri": "https://localhost:8080/",
          "height": 363
        },
        "id": "eIo95pSHnmEC",
        "outputId": "3cf9e5ec-a94a-49f0-a0f6-85281e1fd364"
      },
      "outputs": [
        {
          "output_type": "execute_result",
          "data": {
            "text/plain": [
              "  Carrier     count\n",
              "0      WN  59018034\n",
              "1      DL  40070868\n",
              "2      AA  33522552\n",
              "3      OO  30683742\n",
              "4      EV  24626412\n",
              "5      UA  24626208\n",
              "6      MQ  14054196\n",
              "7      B6  12522108\n",
              "8      US  11021874\n",
              "9      AS   8313600"
            ],
            "text/html": [
              "\n",
              "  <div id=\"df-68cc393b-0133-49ab-852c-91b2c26b4283\" class=\"colab-df-container\">\n",
              "    <div>\n",
              "<style scoped>\n",
              "    .dataframe tbody tr th:only-of-type {\n",
              "        vertical-align: middle;\n",
              "    }\n",
              "\n",
              "    .dataframe tbody tr th {\n",
              "        vertical-align: top;\n",
              "    }\n",
              "\n",
              "    .dataframe thead th {\n",
              "        text-align: right;\n",
              "    }\n",
              "</style>\n",
              "<table border=\"1\" class=\"dataframe\">\n",
              "  <thead>\n",
              "    <tr style=\"text-align: right;\">\n",
              "      <th></th>\n",
              "      <th>Carrier</th>\n",
              "      <th>count</th>\n",
              "    </tr>\n",
              "  </thead>\n",
              "  <tbody>\n",
              "    <tr>\n",
              "      <th>0</th>\n",
              "      <td>WN</td>\n",
              "      <td>59018034</td>\n",
              "    </tr>\n",
              "    <tr>\n",
              "      <th>1</th>\n",
              "      <td>DL</td>\n",
              "      <td>40070868</td>\n",
              "    </tr>\n",
              "    <tr>\n",
              "      <th>2</th>\n",
              "      <td>AA</td>\n",
              "      <td>33522552</td>\n",
              "    </tr>\n",
              "    <tr>\n",
              "      <th>3</th>\n",
              "      <td>OO</td>\n",
              "      <td>30683742</td>\n",
              "    </tr>\n",
              "    <tr>\n",
              "      <th>4</th>\n",
              "      <td>EV</td>\n",
              "      <td>24626412</td>\n",
              "    </tr>\n",
              "    <tr>\n",
              "      <th>5</th>\n",
              "      <td>UA</td>\n",
              "      <td>24626208</td>\n",
              "    </tr>\n",
              "    <tr>\n",
              "      <th>6</th>\n",
              "      <td>MQ</td>\n",
              "      <td>14054196</td>\n",
              "    </tr>\n",
              "    <tr>\n",
              "      <th>7</th>\n",
              "      <td>B6</td>\n",
              "      <td>12522108</td>\n",
              "    </tr>\n",
              "    <tr>\n",
              "      <th>8</th>\n",
              "      <td>US</td>\n",
              "      <td>11021874</td>\n",
              "    </tr>\n",
              "    <tr>\n",
              "      <th>9</th>\n",
              "      <td>AS</td>\n",
              "      <td>8313600</td>\n",
              "    </tr>\n",
              "  </tbody>\n",
              "</table>\n",
              "</div>\n",
              "    <div class=\"colab-df-buttons\">\n",
              "\n",
              "  <div class=\"colab-df-container\">\n",
              "    <button class=\"colab-df-convert\" onclick=\"convertToInteractive('df-68cc393b-0133-49ab-852c-91b2c26b4283')\"\n",
              "            title=\"Convert this dataframe to an interactive table.\"\n",
              "            style=\"display:none;\">\n",
              "\n",
              "  <svg xmlns=\"http://www.w3.org/2000/svg\" height=\"24px\" viewBox=\"0 -960 960 960\">\n",
              "    <path d=\"M120-120v-720h720v720H120Zm60-500h600v-160H180v160Zm220 220h160v-160H400v160Zm0 220h160v-160H400v160ZM180-400h160v-160H180v160Zm440 0h160v-160H620v160ZM180-180h160v-160H180v160Zm440 0h160v-160H620v160Z\"/>\n",
              "  </svg>\n",
              "    </button>\n",
              "\n",
              "  <style>\n",
              "    .colab-df-container {\n",
              "      display:flex;\n",
              "      gap: 12px;\n",
              "    }\n",
              "\n",
              "    .colab-df-convert {\n",
              "      background-color: #E8F0FE;\n",
              "      border: none;\n",
              "      border-radius: 50%;\n",
              "      cursor: pointer;\n",
              "      display: none;\n",
              "      fill: #1967D2;\n",
              "      height: 32px;\n",
              "      padding: 0 0 0 0;\n",
              "      width: 32px;\n",
              "    }\n",
              "\n",
              "    .colab-df-convert:hover {\n",
              "      background-color: #E2EBFA;\n",
              "      box-shadow: 0px 1px 2px rgba(60, 64, 67, 0.3), 0px 1px 3px 1px rgba(60, 64, 67, 0.15);\n",
              "      fill: #174EA6;\n",
              "    }\n",
              "\n",
              "    .colab-df-buttons div {\n",
              "      margin-bottom: 4px;\n",
              "    }\n",
              "\n",
              "    [theme=dark] .colab-df-convert {\n",
              "      background-color: #3B4455;\n",
              "      fill: #D2E3FC;\n",
              "    }\n",
              "\n",
              "    [theme=dark] .colab-df-convert:hover {\n",
              "      background-color: #434B5C;\n",
              "      box-shadow: 0px 1px 3px 1px rgba(0, 0, 0, 0.15);\n",
              "      filter: drop-shadow(0px 1px 2px rgba(0, 0, 0, 0.3));\n",
              "      fill: #FFFFFF;\n",
              "    }\n",
              "  </style>\n",
              "\n",
              "    <script>\n",
              "      const buttonEl =\n",
              "        document.querySelector('#df-68cc393b-0133-49ab-852c-91b2c26b4283 button.colab-df-convert');\n",
              "      buttonEl.style.display =\n",
              "        google.colab.kernel.accessAllowed ? 'block' : 'none';\n",
              "\n",
              "      async function convertToInteractive(key) {\n",
              "        const element = document.querySelector('#df-68cc393b-0133-49ab-852c-91b2c26b4283');\n",
              "        const dataTable =\n",
              "          await google.colab.kernel.invokeFunction('convertToInteractive',\n",
              "                                                    [key], {});\n",
              "        if (!dataTable) return;\n",
              "\n",
              "        const docLinkHtml = 'Like what you see? Visit the ' +\n",
              "          '<a target=\"_blank\" href=https://colab.research.google.com/notebooks/data_table.ipynb>data table notebook</a>'\n",
              "          + ' to learn more about interactive tables.';\n",
              "        element.innerHTML = '';\n",
              "        dataTable['output_type'] = 'display_data';\n",
              "        await google.colab.output.renderOutput(dataTable, element);\n",
              "        const docLink = document.createElement('div');\n",
              "        docLink.innerHTML = docLinkHtml;\n",
              "        element.appendChild(docLink);\n",
              "      }\n",
              "    </script>\n",
              "  </div>\n",
              "\n",
              "\n",
              "<div id=\"df-4df4d6d1-b171-449b-8fdd-a54ab61645d9\">\n",
              "  <button class=\"colab-df-quickchart\" onclick=\"quickchart('df-4df4d6d1-b171-449b-8fdd-a54ab61645d9')\"\n",
              "            title=\"Suggest charts\"\n",
              "            style=\"display:none;\">\n",
              "\n",
              "<svg xmlns=\"http://www.w3.org/2000/svg\" height=\"24px\"viewBox=\"0 0 24 24\"\n",
              "     width=\"24px\">\n",
              "    <g>\n",
              "        <path d=\"M19 3H5c-1.1 0-2 .9-2 2v14c0 1.1.9 2 2 2h14c1.1 0 2-.9 2-2V5c0-1.1-.9-2-2-2zM9 17H7v-7h2v7zm4 0h-2V7h2v10zm4 0h-2v-4h2v4z\"/>\n",
              "    </g>\n",
              "</svg>\n",
              "  </button>\n",
              "\n",
              "<style>\n",
              "  .colab-df-quickchart {\n",
              "      --bg-color: #E8F0FE;\n",
              "      --fill-color: #1967D2;\n",
              "      --hover-bg-color: #E2EBFA;\n",
              "      --hover-fill-color: #174EA6;\n",
              "      --disabled-fill-color: #AAA;\n",
              "      --disabled-bg-color: #DDD;\n",
              "  }\n",
              "\n",
              "  [theme=dark] .colab-df-quickchart {\n",
              "      --bg-color: #3B4455;\n",
              "      --fill-color: #D2E3FC;\n",
              "      --hover-bg-color: #434B5C;\n",
              "      --hover-fill-color: #FFFFFF;\n",
              "      --disabled-bg-color: #3B4455;\n",
              "      --disabled-fill-color: #666;\n",
              "  }\n",
              "\n",
              "  .colab-df-quickchart {\n",
              "    background-color: var(--bg-color);\n",
              "    border: none;\n",
              "    border-radius: 50%;\n",
              "    cursor: pointer;\n",
              "    display: none;\n",
              "    fill: var(--fill-color);\n",
              "    height: 32px;\n",
              "    padding: 0;\n",
              "    width: 32px;\n",
              "  }\n",
              "\n",
              "  .colab-df-quickchart:hover {\n",
              "    background-color: var(--hover-bg-color);\n",
              "    box-shadow: 0 1px 2px rgba(60, 64, 67, 0.3), 0 1px 3px 1px rgba(60, 64, 67, 0.15);\n",
              "    fill: var(--button-hover-fill-color);\n",
              "  }\n",
              "\n",
              "  .colab-df-quickchart-complete:disabled,\n",
              "  .colab-df-quickchart-complete:disabled:hover {\n",
              "    background-color: var(--disabled-bg-color);\n",
              "    fill: var(--disabled-fill-color);\n",
              "    box-shadow: none;\n",
              "  }\n",
              "\n",
              "  .colab-df-spinner {\n",
              "    border: 2px solid var(--fill-color);\n",
              "    border-color: transparent;\n",
              "    border-bottom-color: var(--fill-color);\n",
              "    animation:\n",
              "      spin 1s steps(1) infinite;\n",
              "  }\n",
              "\n",
              "  @keyframes spin {\n",
              "    0% {\n",
              "      border-color: transparent;\n",
              "      border-bottom-color: var(--fill-color);\n",
              "      border-left-color: var(--fill-color);\n",
              "    }\n",
              "    20% {\n",
              "      border-color: transparent;\n",
              "      border-left-color: var(--fill-color);\n",
              "      border-top-color: var(--fill-color);\n",
              "    }\n",
              "    30% {\n",
              "      border-color: transparent;\n",
              "      border-left-color: var(--fill-color);\n",
              "      border-top-color: var(--fill-color);\n",
              "      border-right-color: var(--fill-color);\n",
              "    }\n",
              "    40% {\n",
              "      border-color: transparent;\n",
              "      border-right-color: var(--fill-color);\n",
              "      border-top-color: var(--fill-color);\n",
              "    }\n",
              "    60% {\n",
              "      border-color: transparent;\n",
              "      border-right-color: var(--fill-color);\n",
              "    }\n",
              "    80% {\n",
              "      border-color: transparent;\n",
              "      border-right-color: var(--fill-color);\n",
              "      border-bottom-color: var(--fill-color);\n",
              "    }\n",
              "    90% {\n",
              "      border-color: transparent;\n",
              "      border-bottom-color: var(--fill-color);\n",
              "    }\n",
              "  }\n",
              "</style>\n",
              "\n",
              "  <script>\n",
              "    async function quickchart(key) {\n",
              "      const quickchartButtonEl =\n",
              "        document.querySelector('#' + key + ' button');\n",
              "      quickchartButtonEl.disabled = true;  // To prevent multiple clicks.\n",
              "      quickchartButtonEl.classList.add('colab-df-spinner');\n",
              "      try {\n",
              "        const charts = await google.colab.kernel.invokeFunction(\n",
              "            'suggestCharts', [key], {});\n",
              "      } catch (error) {\n",
              "        console.error('Error during call to suggestCharts:', error);\n",
              "      }\n",
              "      quickchartButtonEl.classList.remove('colab-df-spinner');\n",
              "      quickchartButtonEl.classList.add('colab-df-quickchart-complete');\n",
              "    }\n",
              "    (() => {\n",
              "      let quickchartButtonEl =\n",
              "        document.querySelector('#df-4df4d6d1-b171-449b-8fdd-a54ab61645d9 button');\n",
              "      quickchartButtonEl.style.display =\n",
              "        google.colab.kernel.accessAllowed ? 'block' : 'none';\n",
              "    })();\n",
              "  </script>\n",
              "</div>\n",
              "    </div>\n",
              "  </div>\n"
            ]
          },
          "metadata": {},
          "execution_count": 42
        }
      ],
      "source": [
        "# get the most present flight carriers\n",
        "carriers_flight_count_df = analysis_df.groupBy(F.col('OP_CARRIER')).count().orderBy(F.col('count').desc())\n",
        "top_10 = carriers_flight_count_df.limit(10).toPandas()\n",
        "top_10 = top_10.rename(columns={'OP_CARRIER':'Carrier'})\n",
        "top_10"
      ]
    },
    {
      "cell_type": "code",
      "execution_count": 43,
      "metadata": {
        "colab": {
          "base_uri": "https://localhost:8080/",
          "height": 644
        },
        "id": "plcnYB10n9WO",
        "outputId": "a169f643-afde-4087-de33-60ab54d315d5"
      },
      "outputs": [
        {
          "output_type": "execute_result",
          "data": {
            "text/html": [
              "\n",
              "<div id=\"altair-viz-eb9203451aa140b28992442c90f59605\"></div>\n",
              "<script type=\"text/javascript\">\n",
              "  var VEGA_DEBUG = (typeof VEGA_DEBUG == \"undefined\") ? {} : VEGA_DEBUG;\n",
              "  (function(spec, embedOpt){\n",
              "    let outputDiv = document.currentScript.previousElementSibling;\n",
              "    if (outputDiv.id !== \"altair-viz-eb9203451aa140b28992442c90f59605\") {\n",
              "      outputDiv = document.getElementById(\"altair-viz-eb9203451aa140b28992442c90f59605\");\n",
              "    }\n",
              "    const paths = {\n",
              "      \"vega\": \"https://cdn.jsdelivr.net/npm//vega@5?noext\",\n",
              "      \"vega-lib\": \"https://cdn.jsdelivr.net/npm//vega-lib?noext\",\n",
              "      \"vega-lite\": \"https://cdn.jsdelivr.net/npm//vega-lite@4.17.0?noext\",\n",
              "      \"vega-embed\": \"https://cdn.jsdelivr.net/npm//vega-embed@6?noext\",\n",
              "    };\n",
              "\n",
              "    function maybeLoadScript(lib, version) {\n",
              "      var key = `${lib.replace(\"-\", \"\")}_version`;\n",
              "      return (VEGA_DEBUG[key] == version) ?\n",
              "        Promise.resolve(paths[lib]) :\n",
              "        new Promise(function(resolve, reject) {\n",
              "          var s = document.createElement('script');\n",
              "          document.getElementsByTagName(\"head\")[0].appendChild(s);\n",
              "          s.async = true;\n",
              "          s.onload = () => {\n",
              "            VEGA_DEBUG[key] = version;\n",
              "            return resolve(paths[lib]);\n",
              "          };\n",
              "          s.onerror = () => reject(`Error loading script: ${paths[lib]}`);\n",
              "          s.src = paths[lib];\n",
              "        });\n",
              "    }\n",
              "\n",
              "    function showError(err) {\n",
              "      outputDiv.innerHTML = `<div class=\"error\" style=\"color:red;\">${err}</div>`;\n",
              "      throw err;\n",
              "    }\n",
              "\n",
              "    function displayChart(vegaEmbed) {\n",
              "      vegaEmbed(outputDiv, spec, embedOpt)\n",
              "        .catch(err => showError(`Javascript Error: ${err.message}<br>This usually means there's a typo in your chart specification. See the javascript console for the full traceback.`));\n",
              "    }\n",
              "\n",
              "    if(typeof define === \"function\" && define.amd) {\n",
              "      requirejs.config({paths});\n",
              "      require([\"vega-embed\"], displayChart, err => showError(`Error loading script: ${err.message}`));\n",
              "    } else {\n",
              "      maybeLoadScript(\"vega\", \"5\")\n",
              "        .then(() => maybeLoadScript(\"vega-lite\", \"4.17.0\"))\n",
              "        .then(() => maybeLoadScript(\"vega-embed\", \"6\"))\n",
              "        .catch(showError)\n",
              "        .then(() => displayChart(vegaEmbed));\n",
              "    }\n",
              "  })({\"config\": {\"view\": {\"continuousWidth\": 400, \"continuousHeight\": 300, \"strokeWidth\": 0}, \"title\": {\"fontSize\": 18}}, \"layer\": [{\"mark\": {\"type\": \"arc\", \"innerRadius\": 75, \"outerRadius\": 260}, \"encoding\": {\"color\": {\"field\": \"Carrier\", \"legend\": null, \"scale\": {\"scheme\": \"category20\"}, \"type\": \"nominal\"}, \"theta\": {\"field\": \"count\", \"stack\": true, \"type\": \"quantitative\"}}, \"height\": 300, \"title\": \"Top 10 Carriers by amount of flights\", \"width\": 600}, {\"mark\": {\"type\": \"text\", \"radius\": 200, \"size\": 15}, \"encoding\": {\"color\": {\"value\": \"#000000\"}, \"text\": {\"field\": \"Carrier\", \"type\": \"nominal\"}, \"theta\": {\"field\": \"count\", \"stack\": true, \"type\": \"quantitative\"}}, \"height\": 300, \"title\": \"Top 10 Carriers by amount of flights\", \"width\": 600}, {\"mark\": {\"type\": \"text\", \"radius\": 300, \"size\": 15}, \"encoding\": {\"color\": {\"field\": \"Carrier\", \"legend\": null, \"scale\": {\"scheme\": \"category20\"}, \"type\": \"nominal\"}, \"text\": {\"field\": \"count\", \"type\": \"quantitative\"}, \"theta\": {\"field\": \"count\", \"stack\": true, \"type\": \"quantitative\"}}, \"height\": 300, \"title\": \"Top 10 Carriers by amount of flights\", \"width\": 600}], \"data\": {\"name\": \"data-c189d9b792c04662a25060abbf89b86b\"}, \"$schema\": \"https://vega.github.io/schema/vega-lite/v4.17.0.json\", \"datasets\": {\"data-c189d9b792c04662a25060abbf89b86b\": [{\"Carrier\": \"WN\", \"count\": 59018034}, {\"Carrier\": \"DL\", \"count\": 40070868}, {\"Carrier\": \"AA\", \"count\": 33522552}, {\"Carrier\": \"OO\", \"count\": 30683742}, {\"Carrier\": \"EV\", \"count\": 24626412}, {\"Carrier\": \"UA\", \"count\": 24626208}, {\"Carrier\": \"MQ\", \"count\": 14054196}, {\"Carrier\": \"B6\", \"count\": 12522108}, {\"Carrier\": \"US\", \"count\": 11021874}, {\"Carrier\": \"AS\", \"count\": 8313600}]}}, {\"mode\": \"vega-lite\"});\n",
              "</script>"
            ],
            "text/plain": [
              "alt.LayerChart(...)"
            ]
          },
          "metadata": {},
          "execution_count": 43
        }
      ],
      "source": [
        "import altair as alt\n",
        "\n",
        "# visualisation\n",
        "chart = alt.Chart(top_10).mark_arc(outerRadius=260, innerRadius=75).encode(\n",
        "    theta = alt.Theta(field=\"count\", type=\"quantitative\", stack=True),\n",
        "    color = alt.Color('Carrier:N', scale=alt.Scale(scheme='category20'), legend=None),\n",
        ").properties(\n",
        "    title='Top 10 Carriers by amount of flights',\n",
        "    width=600,\n",
        "    height=300\n",
        ")\n",
        "\n",
        "pie = chart.mark_arc(outerRadius=350)\n",
        "value_text = pie.mark_text(radius=300, size=15).encode(text=alt.Text('count:Q'))\n",
        "\n",
        "pie2 = chart.mark_arc(outerRadius=250)\n",
        "text = pie2.mark_text(radius=200, size=15).encode(\n",
        "    text=alt.Text('Carrier:N'),\n",
        "    color=alt.value(\"#000000\")\n",
        ")\n",
        "\n",
        "(chart + text + value_text).configure_view(\n",
        "    strokeWidth=0\n",
        ").configure_title(\n",
        "    fontSize=18\n",
        ")"
      ]
    },
    {
      "cell_type": "code",
      "execution_count": 44,
      "metadata": {
        "colab": {
          "base_uri": "https://localhost:8080/",
          "height": 175
        },
        "id": "Q81o6QNgoEPi",
        "outputId": "84af89b0-4c7b-49df-eece-4cf4e407b829"
      },
      "outputs": [
        {
          "output_type": "execute_result",
          "data": {
            "text/plain": [
              "  CANCELLATION_CODE    count\n",
              "0                 B  2299086\n",
              "1                 D     3894\n",
              "2                 C   907284\n",
              "3                 A  1425474"
            ],
            "text/html": [
              "\n",
              "  <div id=\"df-6295ece6-efca-4bc9-bdb1-c9b536198e36\" class=\"colab-df-container\">\n",
              "    <div>\n",
              "<style scoped>\n",
              "    .dataframe tbody tr th:only-of-type {\n",
              "        vertical-align: middle;\n",
              "    }\n",
              "\n",
              "    .dataframe tbody tr th {\n",
              "        vertical-align: top;\n",
              "    }\n",
              "\n",
              "    .dataframe thead th {\n",
              "        text-align: right;\n",
              "    }\n",
              "</style>\n",
              "<table border=\"1\" class=\"dataframe\">\n",
              "  <thead>\n",
              "    <tr style=\"text-align: right;\">\n",
              "      <th></th>\n",
              "      <th>CANCELLATION_CODE</th>\n",
              "      <th>count</th>\n",
              "    </tr>\n",
              "  </thead>\n",
              "  <tbody>\n",
              "    <tr>\n",
              "      <th>0</th>\n",
              "      <td>B</td>\n",
              "      <td>2299086</td>\n",
              "    </tr>\n",
              "    <tr>\n",
              "      <th>1</th>\n",
              "      <td>D</td>\n",
              "      <td>3894</td>\n",
              "    </tr>\n",
              "    <tr>\n",
              "      <th>2</th>\n",
              "      <td>C</td>\n",
              "      <td>907284</td>\n",
              "    </tr>\n",
              "    <tr>\n",
              "      <th>3</th>\n",
              "      <td>A</td>\n",
              "      <td>1425474</td>\n",
              "    </tr>\n",
              "  </tbody>\n",
              "</table>\n",
              "</div>\n",
              "    <div class=\"colab-df-buttons\">\n",
              "\n",
              "  <div class=\"colab-df-container\">\n",
              "    <button class=\"colab-df-convert\" onclick=\"convertToInteractive('df-6295ece6-efca-4bc9-bdb1-c9b536198e36')\"\n",
              "            title=\"Convert this dataframe to an interactive table.\"\n",
              "            style=\"display:none;\">\n",
              "\n",
              "  <svg xmlns=\"http://www.w3.org/2000/svg\" height=\"24px\" viewBox=\"0 -960 960 960\">\n",
              "    <path d=\"M120-120v-720h720v720H120Zm60-500h600v-160H180v160Zm220 220h160v-160H400v160Zm0 220h160v-160H400v160ZM180-400h160v-160H180v160Zm440 0h160v-160H620v160ZM180-180h160v-160H180v160Zm440 0h160v-160H620v160Z\"/>\n",
              "  </svg>\n",
              "    </button>\n",
              "\n",
              "  <style>\n",
              "    .colab-df-container {\n",
              "      display:flex;\n",
              "      gap: 12px;\n",
              "    }\n",
              "\n",
              "    .colab-df-convert {\n",
              "      background-color: #E8F0FE;\n",
              "      border: none;\n",
              "      border-radius: 50%;\n",
              "      cursor: pointer;\n",
              "      display: none;\n",
              "      fill: #1967D2;\n",
              "      height: 32px;\n",
              "      padding: 0 0 0 0;\n",
              "      width: 32px;\n",
              "    }\n",
              "\n",
              "    .colab-df-convert:hover {\n",
              "      background-color: #E2EBFA;\n",
              "      box-shadow: 0px 1px 2px rgba(60, 64, 67, 0.3), 0px 1px 3px 1px rgba(60, 64, 67, 0.15);\n",
              "      fill: #174EA6;\n",
              "    }\n",
              "\n",
              "    .colab-df-buttons div {\n",
              "      margin-bottom: 4px;\n",
              "    }\n",
              "\n",
              "    [theme=dark] .colab-df-convert {\n",
              "      background-color: #3B4455;\n",
              "      fill: #D2E3FC;\n",
              "    }\n",
              "\n",
              "    [theme=dark] .colab-df-convert:hover {\n",
              "      background-color: #434B5C;\n",
              "      box-shadow: 0px 1px 3px 1px rgba(0, 0, 0, 0.15);\n",
              "      filter: drop-shadow(0px 1px 2px rgba(0, 0, 0, 0.3));\n",
              "      fill: #FFFFFF;\n",
              "    }\n",
              "  </style>\n",
              "\n",
              "    <script>\n",
              "      const buttonEl =\n",
              "        document.querySelector('#df-6295ece6-efca-4bc9-bdb1-c9b536198e36 button.colab-df-convert');\n",
              "      buttonEl.style.display =\n",
              "        google.colab.kernel.accessAllowed ? 'block' : 'none';\n",
              "\n",
              "      async function convertToInteractive(key) {\n",
              "        const element = document.querySelector('#df-6295ece6-efca-4bc9-bdb1-c9b536198e36');\n",
              "        const dataTable =\n",
              "          await google.colab.kernel.invokeFunction('convertToInteractive',\n",
              "                                                    [key], {});\n",
              "        if (!dataTable) return;\n",
              "\n",
              "        const docLinkHtml = 'Like what you see? Visit the ' +\n",
              "          '<a target=\"_blank\" href=https://colab.research.google.com/notebooks/data_table.ipynb>data table notebook</a>'\n",
              "          + ' to learn more about interactive tables.';\n",
              "        element.innerHTML = '';\n",
              "        dataTable['output_type'] = 'display_data';\n",
              "        await google.colab.output.renderOutput(dataTable, element);\n",
              "        const docLink = document.createElement('div');\n",
              "        docLink.innerHTML = docLinkHtml;\n",
              "        element.appendChild(docLink);\n",
              "      }\n",
              "    </script>\n",
              "  </div>\n",
              "\n",
              "\n",
              "<div id=\"df-f28ec24c-d7a0-42c5-b24a-1be75aa4a36f\">\n",
              "  <button class=\"colab-df-quickchart\" onclick=\"quickchart('df-f28ec24c-d7a0-42c5-b24a-1be75aa4a36f')\"\n",
              "            title=\"Suggest charts\"\n",
              "            style=\"display:none;\">\n",
              "\n",
              "<svg xmlns=\"http://www.w3.org/2000/svg\" height=\"24px\"viewBox=\"0 0 24 24\"\n",
              "     width=\"24px\">\n",
              "    <g>\n",
              "        <path d=\"M19 3H5c-1.1 0-2 .9-2 2v14c0 1.1.9 2 2 2h14c1.1 0 2-.9 2-2V5c0-1.1-.9-2-2-2zM9 17H7v-7h2v7zm4 0h-2V7h2v10zm4 0h-2v-4h2v4z\"/>\n",
              "    </g>\n",
              "</svg>\n",
              "  </button>\n",
              "\n",
              "<style>\n",
              "  .colab-df-quickchart {\n",
              "      --bg-color: #E8F0FE;\n",
              "      --fill-color: #1967D2;\n",
              "      --hover-bg-color: #E2EBFA;\n",
              "      --hover-fill-color: #174EA6;\n",
              "      --disabled-fill-color: #AAA;\n",
              "      --disabled-bg-color: #DDD;\n",
              "  }\n",
              "\n",
              "  [theme=dark] .colab-df-quickchart {\n",
              "      --bg-color: #3B4455;\n",
              "      --fill-color: #D2E3FC;\n",
              "      --hover-bg-color: #434B5C;\n",
              "      --hover-fill-color: #FFFFFF;\n",
              "      --disabled-bg-color: #3B4455;\n",
              "      --disabled-fill-color: #666;\n",
              "  }\n",
              "\n",
              "  .colab-df-quickchart {\n",
              "    background-color: var(--bg-color);\n",
              "    border: none;\n",
              "    border-radius: 50%;\n",
              "    cursor: pointer;\n",
              "    display: none;\n",
              "    fill: var(--fill-color);\n",
              "    height: 32px;\n",
              "    padding: 0;\n",
              "    width: 32px;\n",
              "  }\n",
              "\n",
              "  .colab-df-quickchart:hover {\n",
              "    background-color: var(--hover-bg-color);\n",
              "    box-shadow: 0 1px 2px rgba(60, 64, 67, 0.3), 0 1px 3px 1px rgba(60, 64, 67, 0.15);\n",
              "    fill: var(--button-hover-fill-color);\n",
              "  }\n",
              "\n",
              "  .colab-df-quickchart-complete:disabled,\n",
              "  .colab-df-quickchart-complete:disabled:hover {\n",
              "    background-color: var(--disabled-bg-color);\n",
              "    fill: var(--disabled-fill-color);\n",
              "    box-shadow: none;\n",
              "  }\n",
              "\n",
              "  .colab-df-spinner {\n",
              "    border: 2px solid var(--fill-color);\n",
              "    border-color: transparent;\n",
              "    border-bottom-color: var(--fill-color);\n",
              "    animation:\n",
              "      spin 1s steps(1) infinite;\n",
              "  }\n",
              "\n",
              "  @keyframes spin {\n",
              "    0% {\n",
              "      border-color: transparent;\n",
              "      border-bottom-color: var(--fill-color);\n",
              "      border-left-color: var(--fill-color);\n",
              "    }\n",
              "    20% {\n",
              "      border-color: transparent;\n",
              "      border-left-color: var(--fill-color);\n",
              "      border-top-color: var(--fill-color);\n",
              "    }\n",
              "    30% {\n",
              "      border-color: transparent;\n",
              "      border-left-color: var(--fill-color);\n",
              "      border-top-color: var(--fill-color);\n",
              "      border-right-color: var(--fill-color);\n",
              "    }\n",
              "    40% {\n",
              "      border-color: transparent;\n",
              "      border-right-color: var(--fill-color);\n",
              "      border-top-color: var(--fill-color);\n",
              "    }\n",
              "    60% {\n",
              "      border-color: transparent;\n",
              "      border-right-color: var(--fill-color);\n",
              "    }\n",
              "    80% {\n",
              "      border-color: transparent;\n",
              "      border-right-color: var(--fill-color);\n",
              "      border-bottom-color: var(--fill-color);\n",
              "    }\n",
              "    90% {\n",
              "      border-color: transparent;\n",
              "      border-bottom-color: var(--fill-color);\n",
              "    }\n",
              "  }\n",
              "</style>\n",
              "\n",
              "  <script>\n",
              "    async function quickchart(key) {\n",
              "      const quickchartButtonEl =\n",
              "        document.querySelector('#' + key + ' button');\n",
              "      quickchartButtonEl.disabled = true;  // To prevent multiple clicks.\n",
              "      quickchartButtonEl.classList.add('colab-df-spinner');\n",
              "      try {\n",
              "        const charts = await google.colab.kernel.invokeFunction(\n",
              "            'suggestCharts', [key], {});\n",
              "      } catch (error) {\n",
              "        console.error('Error during call to suggestCharts:', error);\n",
              "      }\n",
              "      quickchartButtonEl.classList.remove('colab-df-spinner');\n",
              "      quickchartButtonEl.classList.add('colab-df-quickchart-complete');\n",
              "    }\n",
              "    (() => {\n",
              "      let quickchartButtonEl =\n",
              "        document.querySelector('#df-f28ec24c-d7a0-42c5-b24a-1be75aa4a36f button');\n",
              "      quickchartButtonEl.style.display =\n",
              "        google.colab.kernel.accessAllowed ? 'block' : 'none';\n",
              "    })();\n",
              "  </script>\n",
              "</div>\n",
              "    </div>\n",
              "  </div>\n"
            ]
          },
          "metadata": {},
          "execution_count": 44
        }
      ],
      "source": [
        "# count number of cancellations per code/reason\n",
        "#This filters out rows where the 'CANCELLATION_CODE' column is not null. This is done to exclude flights that were not canceled.\n",
        "carriers_flight_count_df = analysis_df.filter(F.col('CANCELLATION_CODE').isNotNull()).groupBy(F.col('CANCELLATION_CODE')).count()\n",
        "cancellation_reasons = carriers_flight_count_df.toPandas()\n",
        "cancellation_reasons"
      ]
    },
    {
      "cell_type": "code",
      "execution_count": 45,
      "metadata": {
        "id": "Zpf90bFnoKIN"
      },
      "outputs": [],
      "source": [
        "# rename col values\n",
        "cancellation_reasons['CANCELLATION_CODE'][cancellation_reasons['CANCELLATION_CODE'] == 'A'] = 'By carrier'\n",
        "cancellation_reasons['CANCELLATION_CODE'][cancellation_reasons['CANCELLATION_CODE'] == 'B'] = 'Due to weather'\n",
        "cancellation_reasons['CANCELLATION_CODE'][cancellation_reasons['CANCELLATION_CODE'] == 'C'] = 'By national air system'\n",
        "cancellation_reasons['CANCELLATION_CODE'][cancellation_reasons['CANCELLATION_CODE'] == 'D'] = 'For security'\n",
        "cancellation_reasons = cancellation_reasons.rename(columns={'CANCELLATION_CODE':'Reason'})"
      ]
    },
    {
      "cell_type": "code",
      "execution_count": 46,
      "metadata": {
        "colab": {
          "base_uri": "https://localhost:8080/",
          "height": 175
        },
        "id": "khXKzpuNoSb_",
        "outputId": "79ba7c91-d6c1-4b48-ffbe-b40699fb8eae"
      },
      "outputs": [
        {
          "output_type": "execute_result",
          "data": {
            "text/plain": [
              "                   Reason    count\n",
              "0          Due to weather  2299086\n",
              "1            For security     3894\n",
              "2  By national air system   907284\n",
              "3              By carrier  1425474"
            ],
            "text/html": [
              "\n",
              "  <div id=\"df-8cc1f209-9bab-4305-800c-4e6b7b737105\" class=\"colab-df-container\">\n",
              "    <div>\n",
              "<style scoped>\n",
              "    .dataframe tbody tr th:only-of-type {\n",
              "        vertical-align: middle;\n",
              "    }\n",
              "\n",
              "    .dataframe tbody tr th {\n",
              "        vertical-align: top;\n",
              "    }\n",
              "\n",
              "    .dataframe thead th {\n",
              "        text-align: right;\n",
              "    }\n",
              "</style>\n",
              "<table border=\"1\" class=\"dataframe\">\n",
              "  <thead>\n",
              "    <tr style=\"text-align: right;\">\n",
              "      <th></th>\n",
              "      <th>Reason</th>\n",
              "      <th>count</th>\n",
              "    </tr>\n",
              "  </thead>\n",
              "  <tbody>\n",
              "    <tr>\n",
              "      <th>0</th>\n",
              "      <td>Due to weather</td>\n",
              "      <td>2299086</td>\n",
              "    </tr>\n",
              "    <tr>\n",
              "      <th>1</th>\n",
              "      <td>For security</td>\n",
              "      <td>3894</td>\n",
              "    </tr>\n",
              "    <tr>\n",
              "      <th>2</th>\n",
              "      <td>By national air system</td>\n",
              "      <td>907284</td>\n",
              "    </tr>\n",
              "    <tr>\n",
              "      <th>3</th>\n",
              "      <td>By carrier</td>\n",
              "      <td>1425474</td>\n",
              "    </tr>\n",
              "  </tbody>\n",
              "</table>\n",
              "</div>\n",
              "    <div class=\"colab-df-buttons\">\n",
              "\n",
              "  <div class=\"colab-df-container\">\n",
              "    <button class=\"colab-df-convert\" onclick=\"convertToInteractive('df-8cc1f209-9bab-4305-800c-4e6b7b737105')\"\n",
              "            title=\"Convert this dataframe to an interactive table.\"\n",
              "            style=\"display:none;\">\n",
              "\n",
              "  <svg xmlns=\"http://www.w3.org/2000/svg\" height=\"24px\" viewBox=\"0 -960 960 960\">\n",
              "    <path d=\"M120-120v-720h720v720H120Zm60-500h600v-160H180v160Zm220 220h160v-160H400v160Zm0 220h160v-160H400v160ZM180-400h160v-160H180v160Zm440 0h160v-160H620v160ZM180-180h160v-160H180v160Zm440 0h160v-160H620v160Z\"/>\n",
              "  </svg>\n",
              "    </button>\n",
              "\n",
              "  <style>\n",
              "    .colab-df-container {\n",
              "      display:flex;\n",
              "      gap: 12px;\n",
              "    }\n",
              "\n",
              "    .colab-df-convert {\n",
              "      background-color: #E8F0FE;\n",
              "      border: none;\n",
              "      border-radius: 50%;\n",
              "      cursor: pointer;\n",
              "      display: none;\n",
              "      fill: #1967D2;\n",
              "      height: 32px;\n",
              "      padding: 0 0 0 0;\n",
              "      width: 32px;\n",
              "    }\n",
              "\n",
              "    .colab-df-convert:hover {\n",
              "      background-color: #E2EBFA;\n",
              "      box-shadow: 0px 1px 2px rgba(60, 64, 67, 0.3), 0px 1px 3px 1px rgba(60, 64, 67, 0.15);\n",
              "      fill: #174EA6;\n",
              "    }\n",
              "\n",
              "    .colab-df-buttons div {\n",
              "      margin-bottom: 4px;\n",
              "    }\n",
              "\n",
              "    [theme=dark] .colab-df-convert {\n",
              "      background-color: #3B4455;\n",
              "      fill: #D2E3FC;\n",
              "    }\n",
              "\n",
              "    [theme=dark] .colab-df-convert:hover {\n",
              "      background-color: #434B5C;\n",
              "      box-shadow: 0px 1px 3px 1px rgba(0, 0, 0, 0.15);\n",
              "      filter: drop-shadow(0px 1px 2px rgba(0, 0, 0, 0.3));\n",
              "      fill: #FFFFFF;\n",
              "    }\n",
              "  </style>\n",
              "\n",
              "    <script>\n",
              "      const buttonEl =\n",
              "        document.querySelector('#df-8cc1f209-9bab-4305-800c-4e6b7b737105 button.colab-df-convert');\n",
              "      buttonEl.style.display =\n",
              "        google.colab.kernel.accessAllowed ? 'block' : 'none';\n",
              "\n",
              "      async function convertToInteractive(key) {\n",
              "        const element = document.querySelector('#df-8cc1f209-9bab-4305-800c-4e6b7b737105');\n",
              "        const dataTable =\n",
              "          await google.colab.kernel.invokeFunction('convertToInteractive',\n",
              "                                                    [key], {});\n",
              "        if (!dataTable) return;\n",
              "\n",
              "        const docLinkHtml = 'Like what you see? Visit the ' +\n",
              "          '<a target=\"_blank\" href=https://colab.research.google.com/notebooks/data_table.ipynb>data table notebook</a>'\n",
              "          + ' to learn more about interactive tables.';\n",
              "        element.innerHTML = '';\n",
              "        dataTable['output_type'] = 'display_data';\n",
              "        await google.colab.output.renderOutput(dataTable, element);\n",
              "        const docLink = document.createElement('div');\n",
              "        docLink.innerHTML = docLinkHtml;\n",
              "        element.appendChild(docLink);\n",
              "      }\n",
              "    </script>\n",
              "  </div>\n",
              "\n",
              "\n",
              "<div id=\"df-8bde2152-29c0-4877-90cf-1e9f967fc61c\">\n",
              "  <button class=\"colab-df-quickchart\" onclick=\"quickchart('df-8bde2152-29c0-4877-90cf-1e9f967fc61c')\"\n",
              "            title=\"Suggest charts\"\n",
              "            style=\"display:none;\">\n",
              "\n",
              "<svg xmlns=\"http://www.w3.org/2000/svg\" height=\"24px\"viewBox=\"0 0 24 24\"\n",
              "     width=\"24px\">\n",
              "    <g>\n",
              "        <path d=\"M19 3H5c-1.1 0-2 .9-2 2v14c0 1.1.9 2 2 2h14c1.1 0 2-.9 2-2V5c0-1.1-.9-2-2-2zM9 17H7v-7h2v7zm4 0h-2V7h2v10zm4 0h-2v-4h2v4z\"/>\n",
              "    </g>\n",
              "</svg>\n",
              "  </button>\n",
              "\n",
              "<style>\n",
              "  .colab-df-quickchart {\n",
              "      --bg-color: #E8F0FE;\n",
              "      --fill-color: #1967D2;\n",
              "      --hover-bg-color: #E2EBFA;\n",
              "      --hover-fill-color: #174EA6;\n",
              "      --disabled-fill-color: #AAA;\n",
              "      --disabled-bg-color: #DDD;\n",
              "  }\n",
              "\n",
              "  [theme=dark] .colab-df-quickchart {\n",
              "      --bg-color: #3B4455;\n",
              "      --fill-color: #D2E3FC;\n",
              "      --hover-bg-color: #434B5C;\n",
              "      --hover-fill-color: #FFFFFF;\n",
              "      --disabled-bg-color: #3B4455;\n",
              "      --disabled-fill-color: #666;\n",
              "  }\n",
              "\n",
              "  .colab-df-quickchart {\n",
              "    background-color: var(--bg-color);\n",
              "    border: none;\n",
              "    border-radius: 50%;\n",
              "    cursor: pointer;\n",
              "    display: none;\n",
              "    fill: var(--fill-color);\n",
              "    height: 32px;\n",
              "    padding: 0;\n",
              "    width: 32px;\n",
              "  }\n",
              "\n",
              "  .colab-df-quickchart:hover {\n",
              "    background-color: var(--hover-bg-color);\n",
              "    box-shadow: 0 1px 2px rgba(60, 64, 67, 0.3), 0 1px 3px 1px rgba(60, 64, 67, 0.15);\n",
              "    fill: var(--button-hover-fill-color);\n",
              "  }\n",
              "\n",
              "  .colab-df-quickchart-complete:disabled,\n",
              "  .colab-df-quickchart-complete:disabled:hover {\n",
              "    background-color: var(--disabled-bg-color);\n",
              "    fill: var(--disabled-fill-color);\n",
              "    box-shadow: none;\n",
              "  }\n",
              "\n",
              "  .colab-df-spinner {\n",
              "    border: 2px solid var(--fill-color);\n",
              "    border-color: transparent;\n",
              "    border-bottom-color: var(--fill-color);\n",
              "    animation:\n",
              "      spin 1s steps(1) infinite;\n",
              "  }\n",
              "\n",
              "  @keyframes spin {\n",
              "    0% {\n",
              "      border-color: transparent;\n",
              "      border-bottom-color: var(--fill-color);\n",
              "      border-left-color: var(--fill-color);\n",
              "    }\n",
              "    20% {\n",
              "      border-color: transparent;\n",
              "      border-left-color: var(--fill-color);\n",
              "      border-top-color: var(--fill-color);\n",
              "    }\n",
              "    30% {\n",
              "      border-color: transparent;\n",
              "      border-left-color: var(--fill-color);\n",
              "      border-top-color: var(--fill-color);\n",
              "      border-right-color: var(--fill-color);\n",
              "    }\n",
              "    40% {\n",
              "      border-color: transparent;\n",
              "      border-right-color: var(--fill-color);\n",
              "      border-top-color: var(--fill-color);\n",
              "    }\n",
              "    60% {\n",
              "      border-color: transparent;\n",
              "      border-right-color: var(--fill-color);\n",
              "    }\n",
              "    80% {\n",
              "      border-color: transparent;\n",
              "      border-right-color: var(--fill-color);\n",
              "      border-bottom-color: var(--fill-color);\n",
              "    }\n",
              "    90% {\n",
              "      border-color: transparent;\n",
              "      border-bottom-color: var(--fill-color);\n",
              "    }\n",
              "  }\n",
              "</style>\n",
              "\n",
              "  <script>\n",
              "    async function quickchart(key) {\n",
              "      const quickchartButtonEl =\n",
              "        document.querySelector('#' + key + ' button');\n",
              "      quickchartButtonEl.disabled = true;  // To prevent multiple clicks.\n",
              "      quickchartButtonEl.classList.add('colab-df-spinner');\n",
              "      try {\n",
              "        const charts = await google.colab.kernel.invokeFunction(\n",
              "            'suggestCharts', [key], {});\n",
              "      } catch (error) {\n",
              "        console.error('Error during call to suggestCharts:', error);\n",
              "      }\n",
              "      quickchartButtonEl.classList.remove('colab-df-spinner');\n",
              "      quickchartButtonEl.classList.add('colab-df-quickchart-complete');\n",
              "    }\n",
              "    (() => {\n",
              "      let quickchartButtonEl =\n",
              "        document.querySelector('#df-8bde2152-29c0-4877-90cf-1e9f967fc61c button');\n",
              "      quickchartButtonEl.style.display =\n",
              "        google.colab.kernel.accessAllowed ? 'block' : 'none';\n",
              "    })();\n",
              "  </script>\n",
              "</div>\n",
              "    </div>\n",
              "  </div>\n"
            ]
          },
          "metadata": {},
          "execution_count": 46
        }
      ],
      "source": [
        "cancellation_reasons"
      ]
    },
    {
      "cell_type": "code",
      "execution_count": 47,
      "metadata": {
        "colab": {
          "base_uri": "https://localhost:8080/",
          "height": 471
        },
        "id": "rEgRwAN3oZAg",
        "outputId": "8283d356-de31-4031-c9e2-13db5ad0a7b1"
      },
      "outputs": [
        {
          "output_type": "execute_result",
          "data": {
            "text/html": [
              "\n",
              "<div id=\"altair-viz-0d8cfbad2aab40deaec4b9fc3960302f\"></div>\n",
              "<script type=\"text/javascript\">\n",
              "  var VEGA_DEBUG = (typeof VEGA_DEBUG == \"undefined\") ? {} : VEGA_DEBUG;\n",
              "  (function(spec, embedOpt){\n",
              "    let outputDiv = document.currentScript.previousElementSibling;\n",
              "    if (outputDiv.id !== \"altair-viz-0d8cfbad2aab40deaec4b9fc3960302f\") {\n",
              "      outputDiv = document.getElementById(\"altair-viz-0d8cfbad2aab40deaec4b9fc3960302f\");\n",
              "    }\n",
              "    const paths = {\n",
              "      \"vega\": \"https://cdn.jsdelivr.net/npm//vega@5?noext\",\n",
              "      \"vega-lib\": \"https://cdn.jsdelivr.net/npm//vega-lib?noext\",\n",
              "      \"vega-lite\": \"https://cdn.jsdelivr.net/npm//vega-lite@4.17.0?noext\",\n",
              "      \"vega-embed\": \"https://cdn.jsdelivr.net/npm//vega-embed@6?noext\",\n",
              "    };\n",
              "\n",
              "    function maybeLoadScript(lib, version) {\n",
              "      var key = `${lib.replace(\"-\", \"\")}_version`;\n",
              "      return (VEGA_DEBUG[key] == version) ?\n",
              "        Promise.resolve(paths[lib]) :\n",
              "        new Promise(function(resolve, reject) {\n",
              "          var s = document.createElement('script');\n",
              "          document.getElementsByTagName(\"head\")[0].appendChild(s);\n",
              "          s.async = true;\n",
              "          s.onload = () => {\n",
              "            VEGA_DEBUG[key] = version;\n",
              "            return resolve(paths[lib]);\n",
              "          };\n",
              "          s.onerror = () => reject(`Error loading script: ${paths[lib]}`);\n",
              "          s.src = paths[lib];\n",
              "        });\n",
              "    }\n",
              "\n",
              "    function showError(err) {\n",
              "      outputDiv.innerHTML = `<div class=\"error\" style=\"color:red;\">${err}</div>`;\n",
              "      throw err;\n",
              "    }\n",
              "\n",
              "    function displayChart(vegaEmbed) {\n",
              "      vegaEmbed(outputDiv, spec, embedOpt)\n",
              "        .catch(err => showError(`Javascript Error: ${err.message}<br>This usually means there's a typo in your chart specification. See the javascript console for the full traceback.`));\n",
              "    }\n",
              "\n",
              "    if(typeof define === \"function\" && define.amd) {\n",
              "      requirejs.config({paths});\n",
              "      require([\"vega-embed\"], displayChart, err => showError(`Error loading script: ${err.message}`));\n",
              "    } else {\n",
              "      maybeLoadScript(\"vega\", \"5\")\n",
              "        .then(() => maybeLoadScript(\"vega-lite\", \"4.17.0\"))\n",
              "        .then(() => maybeLoadScript(\"vega-embed\", \"6\"))\n",
              "        .catch(showError)\n",
              "        .then(() => displayChart(vegaEmbed));\n",
              "    }\n",
              "  })({\"config\": {\"view\": {\"continuousWidth\": 400, \"continuousHeight\": 300, \"strokeWidth\": 0}, \"title\": {\"fontSize\": 18}}, \"layer\": [{\"mark\": {\"type\": \"arc\", \"innerRadius\": 50, \"outerRadius\": 180}, \"encoding\": {\"color\": {\"field\": \"Reason\", \"legend\": null, \"scale\": {\"scheme\": \"category20\"}, \"type\": \"nominal\"}, \"theta\": {\"field\": \"count\", \"stack\": true, \"type\": \"quantitative\"}}, \"height\": 300, \"title\": \"Reasons for flight cancellations\", \"width\": 600}, {\"mark\": {\"type\": \"text\", \"radius\": 120, \"size\": 12}, \"encoding\": {\"color\": {\"value\": \"#000000\"}, \"text\": {\"field\": \"Reason\", \"type\": \"nominal\"}, \"theta\": {\"field\": \"count\", \"stack\": true, \"type\": \"quantitative\"}}, \"height\": 300, \"title\": \"Reasons for flight cancellations\", \"width\": 600}, {\"mark\": {\"type\": \"text\", \"radius\": 220, \"size\": 15}, \"encoding\": {\"color\": {\"field\": \"Reason\", \"legend\": null, \"scale\": {\"scheme\": \"category20\"}, \"type\": \"nominal\"}, \"text\": {\"field\": \"count\", \"type\": \"quantitative\"}, \"theta\": {\"field\": \"count\", \"stack\": true, \"type\": \"quantitative\"}}, \"height\": 300, \"title\": \"Reasons for flight cancellations\", \"width\": 600}], \"data\": {\"name\": \"data-06cd53b68ad082bdabe760aaf03df269\"}, \"$schema\": \"https://vega.github.io/schema/vega-lite/v4.17.0.json\", \"datasets\": {\"data-06cd53b68ad082bdabe760aaf03df269\": [{\"Reason\": \"Due to weather\", \"count\": 2299086}, {\"Reason\": \"For security\", \"count\": 3894}, {\"Reason\": \"By national air system\", \"count\": 907284}, {\"Reason\": \"By carrier\", \"count\": 1425474}]}}, {\"mode\": \"vega-lite\"});\n",
              "</script>"
            ],
            "text/plain": [
              "alt.LayerChart(...)"
            ]
          },
          "metadata": {},
          "execution_count": 47
        }
      ],
      "source": [
        "# visualisation of calcellation reasons\n",
        "chart = alt.Chart(cancellation_reasons).mark_arc(outerRadius=180, innerRadius=50).encode(\n",
        "    theta = alt.Theta(field=\"count\", type=\"quantitative\", stack=True),\n",
        "    color = alt.Color('Reason:N', scale=alt.Scale(scheme='category20'), legend=None),\n",
        ").properties(\n",
        "    title='Reasons for flight cancellations',\n",
        "    width=600,\n",
        "    height=300\n",
        ")\n",
        "\n",
        "pie = chart.mark_arc(outerRadius=250)\n",
        "value_text = pie.mark_text(radius=220, size=15).encode(text=alt.Text('count:Q'))\n",
        "\n",
        "pie2 = chart.mark_arc(outerRadius=150)\n",
        "text = pie2.mark_text(radius=120, size=12).encode(\n",
        "    text=alt.Text('Reason:N'),\n",
        "    color=alt.value(\"#000000\")\n",
        ")\n",
        "\n",
        "(chart + text + value_text).configure_view(\n",
        "    strokeWidth=0\n",
        ").configure_title(\n",
        "    fontSize=18\n",
        ")"
      ]
    },
    {
      "cell_type": "code",
      "execution_count": 47,
      "metadata": {
        "id": "PhZivC_fyGzw"
      },
      "outputs": [],
      "source": []
    },
    {
      "cell_type": "code",
      "execution_count": 47,
      "metadata": {
        "id": "AgyIP4nALS4E"
      },
      "outputs": [],
      "source": []
    },
    {
      "cell_type": "markdown",
      "metadata": {
        "id": "OFATsa1FMHTV"
      },
      "source": [
        "# **4. Preprocessing**"
      ]
    },
    {
      "cell_type": "code",
      "execution_count": 48,
      "metadata": {
        "id": "GVOpQP6HLS8-"
      },
      "outputs": [],
      "source": [
        "# define StringIndexer: categorical (string) cols -> to column indices,\n",
        "# each category gets a integer based on their frequency (start from 0)\n",
        "\n",
        "carrier_indexer = StringIndexer(inputCol=\"OP_CARRIER\", outputCol=\"OP_CARRIER_Index\")\n",
        "origin_indexer = StringIndexer(inputCol=\"ORIGIN\", outputCol=\"ORIGIN_Index\")\n",
        "dest_indexer = StringIndexer(inputCol=\"DEST\", outputCol=\"DEST_Index\")"
      ]
    },
    {
      "cell_type": "code",
      "execution_count": 49,
      "metadata": {
        "id": "en7typL-MRc3"
      },
      "outputs": [],
      "source": [
        "# define onehotencoder for a index columns\n",
        "onehotencoder_carrier_vector = OneHotEncoder(inputCol=\"OP_CARRIER_Index\", outputCol=\"OP_CARRIER_vec\")\n",
        "onehotencoder_origin_vector = OneHotEncoder(inputCol=\"ORIGIN_Index\", outputCol=\"ORIGIN_vec\")\n",
        "onehotencoder_dest_vector = OneHotEncoder(inputCol=\"DEST_Index\", outputCol=\"DEST_vec\")"
      ]
    },
    {
      "cell_type": "code",
      "execution_count": 51,
      "metadata": {
        "id": "BjMwH5HYMTTM"
      },
      "outputs": [],
      "source": [
        "# Pipelining the preprocessing stages defined above\n",
        "pipeline = Pipeline(stages=[carrier_indexer, origin_indexer, dest_indexer,\n",
        "                            onehotencoder_carrier_vector, onehotencoder_origin_vector,\n",
        "                            onehotencoder_dest_vector])\n",
        "\n",
        "transformed_df = pipeline.fit(classify_df).transform(classify_df)"
      ]
    },
    {
      "cell_type": "code",
      "execution_count": 55,
      "metadata": {
        "id": "eoobsMNOMWUd"
      },
      "outputs": [],
      "source": [
        "# select columns that are combined to one feature column\n",
        "feature_columns = transformed_df.columns\n",
        "\n",
        "# remove cols that whould not be in our feature cols (label col, intermediate preprocessing cols)\n",
        "for item in [\"CANCELLED\", \"ORIGIN\", \"DEST\", \"OP_CARRIER\", \"OP_CARRIER_Index\", \"ORIGIN_Index\", \"DEST_Index\"]:\n",
        "    feature_columns.remove(item)\n",
        "\n",
        "\n",
        "assembler = VectorAssembler(inputCols=feature_columns, outputCol=\"features\")\n",
        "\n",
        "# build feature col\n",
        "assembled_df = assembler.transform(transformed_df)\n",
        "\n"
      ]
    },
    {
      "cell_type": "code",
      "execution_count": 56,
      "metadata": {
        "id": "rA8QukXZMY3R"
      },
      "outputs": [],
      "source": [
        "# select only feature and label column\n",
        "final_classify_df = assembled_df.select(\"features\", F.col(\"CANCELLED\").alias(\"label\"))"
      ]
    },
    {
      "cell_type": "code",
      "execution_count": 57,
      "metadata": {
        "id": "4TQMWkSXMa2n",
        "colab": {
          "base_uri": "https://localhost:8080/"
        },
        "outputId": "f1d2bdba-4b22-4d50-8e64-5848b83fb782"
      },
      "outputs": [
        {
          "output_type": "stream",
          "name": "stdout",
          "text": [
            "root\n",
            " |-- features: vector (nullable = true)\n",
            " |-- label: double (nullable = true)\n",
            "\n"
          ]
        }
      ],
      "source": [
        "final_classify_df.printSchema()\n"
      ]
    },
    {
      "cell_type": "code",
      "execution_count": 58,
      "metadata": {
        "id": "ABph3aLfMill"
      },
      "outputs": [],
      "source": [
        "train, test = final_classify_df.randomSplit([.7, .3], seed=9) # 70, 30 split on balanced set or on subset of samples"
      ]
    },
    {
      "cell_type": "code",
      "execution_count": 59,
      "metadata": {
        "id": "o-CDy0y-Msns"
      },
      "outputs": [],
      "source": [
        "#spark.catalog.clearCache()\n",
        "# caching data into memory - models run quicker\n",
        "train = train.repartition(32).cache()\n",
        "test = test.repartition(32).cache()"
      ]
    },
    {
      "cell_type": "markdown",
      "metadata": {
        "id": "AH-2uoJqMxmF"
      },
      "source": [
        "# **5. Training Models (on balanced and unbalanced data)**"
      ]
    },
    {
      "cell_type": "code",
      "execution_count": 60,
      "metadata": {
        "id": "2TD13G3bMze0"
      },
      "outputs": [],
      "source": [
        "# define the models\n",
        "log_regress = LogisticRegression(labelCol = 'label', featuresCol = 'features')\n",
        "decision_tree = DecisionTreeClassifier(labelCol = 'label', featuresCol = 'features')\n",
        "rand_forest = RandomForestClassifier(labelCol = 'label', featuresCol = 'features')\n",
        "gbt = GBTClassifier(labelCol = 'label', featuresCol = 'features')"
      ]
    },
    {
      "cell_type": "code",
      "execution_count": 61,
      "metadata": {
        "id": "FfCazobKM3K9"
      },
      "outputs": [],
      "source": [
        "log_regress_model = log_regress.fit(train)"
      ]
    },
    {
      "cell_type": "code",
      "execution_count": 62,
      "metadata": {
        "id": "1Ldb5H43M725"
      },
      "outputs": [],
      "source": [
        "decision_tree_model = decision_tree.fit(train)"
      ]
    },
    {
      "cell_type": "code",
      "execution_count": 63,
      "metadata": {
        "id": "aoMF_7aYM_c5"
      },
      "outputs": [],
      "source": [
        "rand_forest_model = rand_forest.fit(train)"
      ]
    },
    {
      "cell_type": "code",
      "execution_count": 64,
      "metadata": {
        "id": "SoEr6zDCNBUL"
      },
      "outputs": [],
      "source": [
        "gbt_model = gbt.fit(train)"
      ]
    },
    {
      "cell_type": "code",
      "execution_count": null,
      "metadata": {
        "id": "r3CWvp4ZNGRh"
      },
      "outputs": [],
      "source": []
    },
    {
      "cell_type": "markdown",
      "metadata": {
        "id": "EzP0dXIONJcO"
      },
      "source": [
        "# **6. Evaluation**"
      ]
    },
    {
      "cell_type": "code",
      "execution_count": 65,
      "metadata": {
        "id": "TzLS31xfNMuK"
      },
      "outputs": [],
      "source": [
        "# Predications on test set\n",
        "log_regress_predictions = log_regress_model.transform(test)\n",
        "decision_tree_predictions = decision_tree_model.transform(test)\n",
        "rand_forest_predictions = rand_forest_model.transform(test)\n",
        "gbt_predictions = gbt_model.transform(test)\n"
      ]
    },
    {
      "cell_type": "code",
      "execution_count": 66,
      "metadata": {
        "id": "ZiPlf5w7NSOL"
      },
      "outputs": [],
      "source": [
        "# Define metrics to evaluate the models\n",
        "# ROC = areaUnderROC = Area under the Receiver Operating Characteristic (ROC) curve,\n",
        "# A curve that plots the TPR against the FPR.\n",
        "# The area under the ROC curve represents the probability that the model correctly ranks a randomly chosen positive instance higher than a randomly chosen negative instance.\n",
        "# A higher value of areaUnderROC indicates better model performance, with 1.0 being the maximum achievable value.\n",
        "evaluator_ROC = BinaryClassificationEvaluator(labelCol='label', metricName='areaUnderROC')\n",
        "\n",
        "# PR = areaUnderPR = Area Under the Precision-Recall curve\n",
        "# A curve that plots the precision (positive predictive value) against the recall (sensitivity).\n",
        "# The area under the precision-recall curve represents the trade-off between precision and recall.\n",
        "# A higher value of areaUnderPR indicates better model performance, with 1.0 being the maximum achievable value.\n",
        "evaluator_PR = BinaryClassificationEvaluator(labelCol='label', metricName='areaUnderPR')\n",
        "\n",
        "# Accuracy\n",
        "# in pyspark accuracy metrics is for multiclass-classification\n",
        "evaluator_Acc = MulticlassClassificationEvaluator(labelCol='label', metricName='accuracy')\n"
      ]
    },
    {
      "cell_type": "code",
      "execution_count": 67,
      "metadata": {
        "id": "ZZ_-n53bNVrv"
      },
      "outputs": [],
      "source": [
        "# set evaluations\n",
        "\n",
        "log_regress_ROC = evaluator_ROC.evaluate(log_regress_predictions)\n",
        "decision_tree_ROC = evaluator_ROC.evaluate(decision_tree_predictions)\n",
        "rand_forest_ROC = evaluator_ROC.evaluate(rand_forest_predictions)\n",
        "gbt_ROC = evaluator_ROC.evaluate(gbt_predictions)\n",
        "\n",
        "log_regress_PR = evaluator_PR.evaluate(log_regress_predictions)\n",
        "decision_tree_PR = evaluator_PR.evaluate(decision_tree_predictions)\n",
        "rand_forest_PR = evaluator_PR.evaluate(rand_forest_predictions)\n",
        "gbt_PR = evaluator_PR.evaluate(gbt_predictions)\n",
        "\n",
        "log_regress_Acc = evaluator_Acc.evaluate(log_regress_predictions)\n",
        "decision_tree_Acc = evaluator_Acc.evaluate(decision_tree_predictions)\n",
        "rand_forest_Acc = evaluator_Acc.evaluate(rand_forest_predictions)\n",
        "gbt_Acc = evaluator_Acc.evaluate(gbt_predictions)"
      ]
    },
    {
      "cell_type": "code",
      "execution_count": 68,
      "metadata": {
        "id": "RrS-qnRANjFf",
        "colab": {
          "base_uri": "https://localhost:8080/"
        },
        "outputId": "4f59ded4-3632-4b8a-f30d-c932c6de3b82"
      },
      "outputs": [
        {
          "output_type": "stream",
          "name": "stdout",
          "text": [
            "Metric esults:\n",
            "Area under Receiver Operating Characteristic curve:\n",
            "Logistic Regression ROC: 0.7100\n",
            "Decision Tree ROC: 0.4639\n",
            "Random Forest ROC: 0.6687\n",
            "Gradient Boosted Trees ROC: 0.7181\n",
            "Area under Precision Recall curve:\n",
            "Logistic Regression PR: 0.6940\n",
            "Decision Tree PR: 0.4655\n",
            "Random Forest PR: 0.6629\n",
            "Gradient Boosted Trees PR: 0.7074\n",
            "Accuracy:\n",
            "Logistic Regression PR: 0.6536\n",
            "Decision Tree PR: 0.6265\n",
            "Random Forest PR: 0.6220\n",
            "Gradient Boosted Trees PR: 0.6523\n"
          ]
        }
      ],
      "source": [
        "# Print the metrics of each model - unbalanced dataset\n",
        "print('Metric esults:')\n",
        "print('Area under Receiver Operating Characteristic curve:')\n",
        "print(\"Logistic Regression ROC: {:.4f}\".format(log_regress_ROC))\n",
        "print(\"Decision Tree ROC: {:.4f}\".format(decision_tree_ROC))\n",
        "print(\"Random Forest ROC: {:.4f}\".format(rand_forest_ROC))\n",
        "print(\"Gradient Boosted Trees ROC: {:.4f}\".format(gbt_ROC))\n",
        "\n",
        "print('Area under Precision Recall curve:')\n",
        "print(\"Logistic Regression PR: {:.4f}\".format(log_regress_PR))\n",
        "print(\"Decision Tree PR: {:.4f}\".format(decision_tree_PR))\n",
        "print(\"Random Forest PR: {:.4f}\".format(rand_forest_PR))\n",
        "print(\"Gradient Boosted Trees PR: {:.4f}\".format(gbt_PR))\n",
        "\n",
        "print('Accuracy:')\n",
        "print(\"Logistic Regression PR: {:.4f}\".format(log_regress_Acc))\n",
        "print(\"Decision Tree PR: {:.4f}\".format(decision_tree_Acc))\n",
        "print(\"Random Forest PR: {:.4f}\".format(rand_forest_Acc))\n",
        "print(\"Gradient Boosted Trees PR: {:.4f}\".format(gbt_Acc))"
      ]
    }
  ],
  "metadata": {
    "colab": {
      "provenance": []
    },
    "kernelspec": {
      "display_name": "Python 3",
      "name": "python3"
    },
    "language_info": {
      "name": "python"
    }
  },
  "nbformat": 4,
  "nbformat_minor": 0
}